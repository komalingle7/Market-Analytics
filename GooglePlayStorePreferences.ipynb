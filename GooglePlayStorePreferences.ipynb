{
 "cells": [
  {
   "cell_type": "markdown",
   "metadata": {},
   "source": [
    "# Google PlayStore Preference Analytics"
   ]
  },
  {
   "cell_type": "code",
   "execution_count": 1,
   "metadata": {
    "scrolled": true
   },
   "outputs": [],
   "source": [
    "import numpy as np\n",
    "import pandas as pd\n",
    "import seaborn as sns\n",
    "from sklearn import metrics\n",
    "from sklearn.model_selection import train_test_split\n",
    "import random\n",
    "import matplotlib.pyplot as plt\n",
    "\n",
    "%matplotlib inline"
   ]
  },
  {
   "cell_type": "code",
   "execution_count": 2,
   "metadata": {},
   "outputs": [
    {
     "data": {
      "text/html": [
       "<div>\n",
       "<style scoped>\n",
       "    .dataframe tbody tr th:only-of-type {\n",
       "        vertical-align: middle;\n",
       "    }\n",
       "\n",
       "    .dataframe tbody tr th {\n",
       "        vertical-align: top;\n",
       "    }\n",
       "\n",
       "    .dataframe thead th {\n",
       "        text-align: right;\n",
       "    }\n",
       "</style>\n",
       "<table border=\"1\" class=\"dataframe\">\n",
       "  <thead>\n",
       "    <tr style=\"text-align: right;\">\n",
       "      <th></th>\n",
       "      <th>App</th>\n",
       "      <th>Category</th>\n",
       "      <th>Rating</th>\n",
       "      <th>Reviews</th>\n",
       "      <th>Size</th>\n",
       "      <th>Installs</th>\n",
       "      <th>Type</th>\n",
       "      <th>Price</th>\n",
       "      <th>Content Rating</th>\n",
       "      <th>Genres</th>\n",
       "      <th>Last Updated</th>\n",
       "      <th>Current Ver</th>\n",
       "      <th>Android Ver</th>\n",
       "    </tr>\n",
       "  </thead>\n",
       "  <tbody>\n",
       "    <tr>\n",
       "      <th>0</th>\n",
       "      <td>Photo Editor &amp; Candy Camera &amp; Grid &amp; ScrapBook</td>\n",
       "      <td>ART_AND_DESIGN</td>\n",
       "      <td>4.1</td>\n",
       "      <td>159</td>\n",
       "      <td>19M</td>\n",
       "      <td>10,000+</td>\n",
       "      <td>Free</td>\n",
       "      <td>0</td>\n",
       "      <td>Everyone</td>\n",
       "      <td>Art &amp; Design</td>\n",
       "      <td>January 7, 2018</td>\n",
       "      <td>1.0.0</td>\n",
       "      <td>4.0.3 and up</td>\n",
       "    </tr>\n",
       "    <tr>\n",
       "      <th>1</th>\n",
       "      <td>Coloring book moana</td>\n",
       "      <td>ART_AND_DESIGN</td>\n",
       "      <td>3.9</td>\n",
       "      <td>967</td>\n",
       "      <td>14M</td>\n",
       "      <td>500,000+</td>\n",
       "      <td>Free</td>\n",
       "      <td>0</td>\n",
       "      <td>Everyone</td>\n",
       "      <td>Art &amp; Design;Pretend Play</td>\n",
       "      <td>January 15, 2018</td>\n",
       "      <td>2.0.0</td>\n",
       "      <td>4.0.3 and up</td>\n",
       "    </tr>\n",
       "    <tr>\n",
       "      <th>2</th>\n",
       "      <td>U Launcher Lite – FREE Live Cool Themes, Hide ...</td>\n",
       "      <td>ART_AND_DESIGN</td>\n",
       "      <td>4.7</td>\n",
       "      <td>87510</td>\n",
       "      <td>8.7M</td>\n",
       "      <td>5,000,000+</td>\n",
       "      <td>Free</td>\n",
       "      <td>0</td>\n",
       "      <td>Everyone</td>\n",
       "      <td>Art &amp; Design</td>\n",
       "      <td>August 1, 2018</td>\n",
       "      <td>1.2.4</td>\n",
       "      <td>4.0.3 and up</td>\n",
       "    </tr>\n",
       "    <tr>\n",
       "      <th>3</th>\n",
       "      <td>Sketch - Draw &amp; Paint</td>\n",
       "      <td>ART_AND_DESIGN</td>\n",
       "      <td>4.5</td>\n",
       "      <td>215644</td>\n",
       "      <td>25M</td>\n",
       "      <td>50,000,000+</td>\n",
       "      <td>Free</td>\n",
       "      <td>0</td>\n",
       "      <td>Teen</td>\n",
       "      <td>Art &amp; Design</td>\n",
       "      <td>June 8, 2018</td>\n",
       "      <td>Varies with device</td>\n",
       "      <td>4.2 and up</td>\n",
       "    </tr>\n",
       "    <tr>\n",
       "      <th>4</th>\n",
       "      <td>Pixel Draw - Number Art Coloring Book</td>\n",
       "      <td>ART_AND_DESIGN</td>\n",
       "      <td>4.3</td>\n",
       "      <td>967</td>\n",
       "      <td>2.8M</td>\n",
       "      <td>100,000+</td>\n",
       "      <td>Free</td>\n",
       "      <td>0</td>\n",
       "      <td>Everyone</td>\n",
       "      <td>Art &amp; Design;Creativity</td>\n",
       "      <td>June 20, 2018</td>\n",
       "      <td>1.1</td>\n",
       "      <td>4.4 and up</td>\n",
       "    </tr>\n",
       "  </tbody>\n",
       "</table>\n",
       "</div>"
      ],
      "text/plain": [
       "                                                 App        Category  Rating  \\\n",
       "0     Photo Editor & Candy Camera & Grid & ScrapBook  ART_AND_DESIGN     4.1   \n",
       "1                                Coloring book moana  ART_AND_DESIGN     3.9   \n",
       "2  U Launcher Lite – FREE Live Cool Themes, Hide ...  ART_AND_DESIGN     4.7   \n",
       "3                              Sketch - Draw & Paint  ART_AND_DESIGN     4.5   \n",
       "4              Pixel Draw - Number Art Coloring Book  ART_AND_DESIGN     4.3   \n",
       "\n",
       "  Reviews  Size     Installs  Type Price Content Rating  \\\n",
       "0     159   19M      10,000+  Free     0       Everyone   \n",
       "1     967   14M     500,000+  Free     0       Everyone   \n",
       "2   87510  8.7M   5,000,000+  Free     0       Everyone   \n",
       "3  215644   25M  50,000,000+  Free     0           Teen   \n",
       "4     967  2.8M     100,000+  Free     0       Everyone   \n",
       "\n",
       "                      Genres      Last Updated         Current Ver  \\\n",
       "0               Art & Design   January 7, 2018               1.0.0   \n",
       "1  Art & Design;Pretend Play  January 15, 2018               2.0.0   \n",
       "2               Art & Design    August 1, 2018               1.2.4   \n",
       "3               Art & Design      June 8, 2018  Varies with device   \n",
       "4    Art & Design;Creativity     June 20, 2018                 1.1   \n",
       "\n",
       "    Android Ver  \n",
       "0  4.0.3 and up  \n",
       "1  4.0.3 and up  \n",
       "2  4.0.3 and up  \n",
       "3    4.2 and up  \n",
       "4    4.4 and up  "
      ]
     },
     "execution_count": 2,
     "metadata": {},
     "output_type": "execute_result"
    }
   ],
   "source": [
    "df_clean = pd.read_csv('../BIA672 Google PlayStore/googleplaystore.csv')\n",
    "df_clean.head()"
   ]
  },
  {
   "cell_type": "code",
   "execution_count": 3,
   "metadata": {},
   "outputs": [
    {
     "name": "stdout",
     "output_type": "stream",
     "text": [
      "<class 'pandas.core.frame.DataFrame'>\n",
      "Int64Index: 9360 entries, 0 to 10840\n",
      "Data columns (total 13 columns):\n",
      "App               9360 non-null object\n",
      "Category          9360 non-null object\n",
      "Rating            9360 non-null float64\n",
      "Reviews           9360 non-null object\n",
      "Size              9360 non-null object\n",
      "Installs          9360 non-null object\n",
      "Type              9360 non-null object\n",
      "Price             9360 non-null object\n",
      "Content Rating    9360 non-null object\n",
      "Genres            9360 non-null object\n",
      "Last Updated      9360 non-null object\n",
      "Current Ver       9360 non-null object\n",
      "Android Ver       9360 non-null object\n",
      "dtypes: float64(1), object(12)\n",
      "memory usage: 1023.8+ KB\n"
     ]
    }
   ],
   "source": [
    "df_clean.dropna(inplace = True)\n",
    "df_clean.info()"
   ]
  },
  {
   "cell_type": "code",
   "execution_count": 4,
   "metadata": {},
   "outputs": [
    {
     "name": "stdout",
     "output_type": "stream",
     "text": [
      "{'ART_AND_DESIGN': 0, 'AUTO_AND_VEHICLES': 1, 'BEAUTY': 2, 'BOOKS_AND_REFERENCE': 3, 'BUSINESS': 4, 'COMICS': 5, 'COMMUNICATION': 6, 'DATING': 7, 'EDUCATION': 8, 'ENTERTAINMENT': 9, 'EVENTS': 10, 'FINANCE': 11, 'FOOD_AND_DRINK': 12, 'HEALTH_AND_FITNESS': 13, 'HOUSE_AND_HOME': 14, 'LIBRARIES_AND_DEMO': 15, 'LIFESTYLE': 16, 'GAME': 17, 'FAMILY': 18, 'MEDICAL': 19, 'SOCIAL': 20, 'SHOPPING': 21, 'PHOTOGRAPHY': 22, 'SPORTS': 23, 'TRAVEL_AND_LOCAL': 24, 'TOOLS': 25, 'PERSONALIZATION': 26, 'PRODUCTIVITY': 27, 'PARENTING': 28, 'WEATHER': 29, 'VIDEO_PLAYERS': 30, 'NEWS_AND_MAGAZINES': 31, 'MAPS_AND_NAVIGATION': 32}\n"
     ]
    }
   ],
   "source": [
    "## Clean 'Category' variable \n",
    "\n",
    "df_val = df_clean['Category'].unique()\n",
    "df_len = len(df_val)\n",
    "df_dict = {}\n",
    "\n",
    "for i in range(df_len):\n",
    "    df_dict[df_val[i]] = i\n",
    "\n",
    "print(df_dict)"
   ]
  },
  {
   "cell_type": "code",
   "execution_count": 5,
   "metadata": {},
   "outputs": [
    {
     "data": {
      "image/png": "[encoded data removed]",
      "text/plain": [
       "<Figure size 432x288 with 1 Axes>"
      ]
     },
     "metadata": {
      "needs_background": "light"
     },
     "output_type": "display_data"
    }
   ],
   "source": [
    "df_clean[\"Category_new\"] = df_clean[\"Category\"].map(df_dict)\n",
    "df_clean[\"Category_new\"].value_counts().plot(kind ='bar');"
   ]
  },
  {
   "cell_type": "code",
   "execution_count": 6,
   "metadata": {},
   "outputs": [],
   "source": [
    "## Clean 'Reviews' variable \n",
    "\n",
    "df_clean['Reviews'] = df_clean['Reviews'].astype(int)"
   ]
  },
  {
   "cell_type": "code",
   "execution_count": 7,
   "metadata": {},
   "outputs": [],
   "source": [
    "# Scaling and cleaning size of installation\n",
    "\n",
    "def full_size(size):\n",
    "    if 'M' in size:\n",
    "        x = size[:-1]\n",
    "        x = float(x)*1000000\n",
    "        return(x)\n",
    "    elif 'k' == size[-1:]:\n",
    "        x = size[:-1]\n",
    "        x = float(x)*1000\n",
    "        return(x)\n",
    "    else:\n",
    "        return None\n",
    "\n",
    "df_clean[\"Size\"] = df_clean[\"Size\"].map(full_size)"
   ]
  },
  {
   "cell_type": "code",
   "execution_count": 8,
   "metadata": {},
   "outputs": [],
   "source": [
    "df_clean.Size.fillna(method = 'ffill', inplace = True)"
   ]
  },
  {
   "cell_type": "code",
   "execution_count": 9,
   "metadata": {},
   "outputs": [
    {
     "data": {
      "text/plain": [
       "array([1.90e+07, 1.40e+07, 8.70e+06, 2.50e+07, 2.80e+06, 5.60e+06,\n",
       "       2.90e+07, 3.30e+07, 3.10e+06, 2.80e+07, 1.20e+07, 2.00e+07,\n",
       "       2.10e+07, 3.70e+07, 5.50e+06, 1.70e+07, 3.90e+07, 3.10e+07,\n",
       "       4.20e+06, 2.30e+07, 6.00e+06, 6.10e+06, 4.60e+06, 9.20e+06,\n",
       "       5.20e+06, 1.10e+07, 2.40e+07, 9.40e+06, 1.50e+07, 1.00e+07,\n",
       "       1.20e+06, 2.60e+07, 8.00e+06, 7.90e+06, 5.60e+07, 5.70e+07,\n",
       "       3.50e+07, 5.40e+07, 2.01e+05, 3.60e+06, 5.70e+06, 8.60e+06,\n",
       "       2.40e+06, 2.70e+07, 2.70e+06, 2.50e+06, 7.00e+06, 1.60e+07,\n",
       "       3.40e+06, 8.90e+06, 3.90e+06, 2.90e+06, 3.80e+07, 3.20e+07,\n",
       "       5.40e+06, 1.80e+07, 1.10e+06, 2.20e+06, 4.50e+06, 9.80e+06,\n",
       "       5.20e+07, 9.00e+06, 6.70e+06, 3.00e+07, 2.60e+06, 7.10e+06,\n",
       "       2.20e+07, 6.40e+06, 3.20e+06, 8.20e+06, 4.90e+06, 9.50e+06,\n",
       "       5.00e+06, 5.90e+06, 1.30e+07, 7.30e+07, 6.80e+06, 3.50e+06,\n",
       "       4.00e+06, 2.30e+06, 2.10e+06, 4.20e+07, 9.10e+06, 5.50e+07,\n",
       "       2.30e+04, 7.30e+06, 6.50e+06, 1.50e+06, 7.50e+06, 5.10e+07,\n",
       "       4.10e+07, 4.80e+07, 8.50e+06, 4.60e+07, 8.30e+06, 4.30e+06,\n",
       "       4.70e+06, 3.30e+06, 4.00e+07, 7.80e+06, 8.80e+06, 6.60e+06,\n",
       "       5.10e+06, 6.10e+07, 6.60e+07, 7.90e+04, 8.40e+06, 3.70e+06,\n",
       "       1.18e+05, 4.40e+07, 6.95e+05, 1.60e+06, 6.20e+06, 5.30e+07,\n",
       "       1.40e+06, 3.00e+06, 7.20e+06, 5.80e+06, 3.80e+06, 9.60e+06,\n",
       "       4.50e+07, 6.30e+07, 4.90e+07, 7.70e+07, 4.40e+06, 7.00e+07,\n",
       "       9.30e+06, 8.10e+06, 3.60e+07, 6.90e+06, 7.40e+06, 8.40e+07,\n",
       "       9.70e+07, 2.00e+06, 1.90e+06, 1.80e+06, 5.30e+06, 4.70e+07,\n",
       "       5.56e+05, 5.26e+05, 7.60e+07, 7.60e+06, 5.90e+07, 9.70e+06,\n",
       "       7.80e+07, 7.20e+07, 4.30e+07, 7.70e+06, 6.30e+06, 3.34e+05,\n",
       "       9.30e+07, 6.50e+07, 7.90e+07, 1.00e+08, 5.80e+07, 5.00e+07,\n",
       "       6.80e+07, 6.40e+07, 3.40e+07, 6.70e+07, 6.00e+07, 9.40e+07,\n",
       "       9.90e+06, 2.32e+05, 9.90e+07, 6.24e+05, 9.50e+07, 8.50e+03,\n",
       "       4.10e+04, 2.92e+05, 8.00e+07, 1.70e+06, 7.40e+07, 6.20e+07,\n",
       "       6.90e+07, 7.50e+07, 9.80e+07, 8.50e+07, 8.20e+07, 9.60e+07,\n",
       "       8.70e+07, 7.10e+07, 8.60e+07, 9.10e+07, 8.10e+07, 9.20e+07,\n",
       "       8.30e+07, 8.80e+07, 7.04e+05, 8.62e+05, 8.99e+05, 3.78e+05,\n",
       "       4.80e+06, 2.66e+05, 3.75e+05, 1.30e+06, 9.75e+05, 9.80e+05,\n",
       "       4.10e+06, 8.90e+07, 6.96e+05, 5.44e+05, 5.25e+05, 9.20e+05,\n",
       "       7.79e+05, 8.53e+05, 7.20e+05, 7.13e+05, 7.72e+05, 3.18e+05,\n",
       "       5.80e+04, 2.41e+05, 1.96e+05, 8.57e+05, 5.10e+04, 9.53e+05,\n",
       "       8.65e+05, 2.51e+05, 9.30e+05, 5.40e+05, 3.13e+05, 7.46e+05,\n",
       "       2.03e+05, 2.60e+04, 3.14e+05, 2.39e+05, 3.71e+05, 2.20e+05,\n",
       "       7.30e+05, 7.56e+05, 9.10e+04, 2.93e+05, 1.70e+04, 7.40e+04,\n",
       "       1.40e+04, 3.17e+05, 7.80e+04, 9.24e+05, 8.18e+05, 8.10e+04,\n",
       "       9.39e+05, 1.69e+05, 4.50e+04, 9.65e+05, 9.00e+07, 5.45e+05,\n",
       "       6.10e+04, 2.83e+05, 6.55e+05, 7.14e+05, 9.30e+04, 8.72e+05,\n",
       "       1.21e+05, 3.22e+05, 9.76e+05, 2.06e+05, 9.54e+05, 4.44e+05,\n",
       "       7.17e+05, 2.10e+05, 6.09e+05, 3.08e+05, 3.06e+05, 1.75e+05,\n",
       "       3.50e+05, 3.83e+05, 4.54e+05, 1.00e+06, 7.00e+04, 8.12e+05,\n",
       "       4.42e+05, 8.42e+05, 4.17e+05, 4.12e+05, 4.59e+05, 4.78e+05,\n",
       "       3.35e+05, 7.82e+05, 7.21e+05, 4.30e+05, 4.29e+05, 1.92e+05,\n",
       "       4.60e+05, 7.28e+05, 4.96e+05, 8.16e+05, 4.14e+05, 5.06e+05,\n",
       "       8.87e+05, 6.13e+05, 7.78e+05, 6.83e+05, 5.92e+05, 1.86e+05,\n",
       "       8.40e+05, 6.47e+05, 3.73e+05, 4.37e+05, 5.98e+05, 7.16e+05,\n",
       "       5.85e+05, 9.82e+05, 2.19e+05, 5.50e+04, 3.23e+05, 6.91e+05,\n",
       "       5.11e+05, 9.51e+05, 9.63e+05, 2.50e+04, 5.54e+05, 3.51e+05,\n",
       "       2.70e+04, 8.20e+04, 2.08e+05, 5.51e+05, 2.90e+04, 1.03e+05,\n",
       "       1.16e+05, 1.53e+05, 2.09e+05, 4.99e+05, 1.73e+05, 5.97e+05,\n",
       "       8.09e+05, 1.22e+05, 4.11e+05, 4.00e+05, 8.01e+05, 7.87e+05,\n",
       "       5.00e+04, 6.43e+05, 9.86e+05, 5.16e+05, 8.37e+05, 7.80e+05,\n",
       "       2.00e+04, 4.98e+05, 6.00e+05, 6.56e+05, 2.21e+05, 2.28e+05,\n",
       "       1.76e+05, 3.40e+04, 2.59e+05, 1.64e+05, 4.58e+05, 6.29e+05,\n",
       "       2.80e+04, 2.88e+05, 7.75e+05, 7.85e+05, 6.36e+05, 9.16e+05,\n",
       "       9.94e+05, 3.09e+05, 4.85e+05, 9.14e+05, 9.03e+05, 6.08e+05,\n",
       "       5.00e+05, 5.40e+04, 5.62e+05, 8.47e+05, 9.48e+05, 8.11e+05,\n",
       "       2.70e+05, 4.80e+04, 5.23e+05, 7.84e+05, 2.80e+05, 2.40e+04,\n",
       "       8.92e+05, 1.54e+05, 1.80e+04, 3.30e+04, 8.60e+05, 3.64e+05,\n",
       "       3.87e+05, 6.26e+05, 1.61e+05, 8.79e+05, 3.90e+04, 1.70e+05,\n",
       "       1.41e+05, 1.60e+05, 1.44e+05, 1.43e+05, 1.90e+05, 3.76e+05,\n",
       "       1.93e+05, 4.73e+05, 2.46e+05, 7.30e+04, 2.53e+05, 9.57e+05,\n",
       "       4.20e+05, 7.20e+04, 4.04e+05, 4.70e+05, 2.26e+05, 2.40e+05,\n",
       "       8.90e+04, 2.34e+05, 2.57e+05, 8.61e+05, 4.67e+05, 6.76e+05,\n",
       "       5.52e+05, 5.82e+05, 6.19e+05])"
      ]
     },
     "execution_count": 9,
     "metadata": {},
     "output_type": "execute_result"
    }
   ],
   "source": [
    "df_clean[\"Size\"].unique()"
   ]
  },
  {
   "cell_type": "code",
   "execution_count": 10,
   "metadata": {},
   "outputs": [
    {
     "data": {
      "text/plain": [
       "array(['10,000+', '500,000+', '5,000,000+', '50,000,000+', '100,000+',\n",
       "       '50,000+', '1,000,000+', '10,000,000+', '5,000+', '100,000,000+',\n",
       "       '1,000,000,000+', '1,000+', '500,000,000+', '100+', '500+', '10+',\n",
       "       '5+', '50+', '1+'], dtype=object)"
      ]
     },
     "execution_count": 10,
     "metadata": {},
     "output_type": "execute_result"
    }
   ],
   "source": [
    "## Clean 'Installs' variable \n",
    "\n",
    "df_clean['Installs'].unique()"
   ]
  },
  {
   "cell_type": "code",
   "execution_count": 11,
   "metadata": {},
   "outputs": [],
   "source": [
    "df_clean['Installs'] = [i.split(\"+\")[0].replace(',','') for i in df_clean['Installs']]"
   ]
  },
  {
   "cell_type": "code",
   "execution_count": 12,
   "metadata": {},
   "outputs": [],
   "source": [
    "df_clean['Installs'] = df_clean['Installs'].astype(int)"
   ]
  },
  {
   "cell_type": "code",
   "execution_count": 13,
   "metadata": {},
   "outputs": [],
   "source": [
    "## Clean 'Type' variable \n",
    "\n",
    "df_clean.loc[df_clean['Type'] == 'Free' , 'Type'] = 0\n",
    "df_clean.loc[df_clean['Type'] == 'Paid' , 'Type'] = 1"
   ]
  },
  {
   "cell_type": "code",
   "execution_count": 14,
   "metadata": {},
   "outputs": [
    {
     "data": {
      "text/plain": [
       "0    8715\n",
       "1     645\n",
       "Name: Type, dtype: int64"
      ]
     },
     "execution_count": 14,
     "metadata": {},
     "output_type": "execute_result"
    }
   ],
   "source": [
    "df_clean['Type'].value_counts()"
   ]
  },
  {
   "cell_type": "code",
   "execution_count": 15,
   "metadata": {},
   "outputs": [],
   "source": [
    "## Clean 'Price' variable \n",
    "\n",
    "df_clean['Price'] = [i.replace('.','').split('$')[-1] for i in df_clean['Price']] "
   ]
  },
  {
   "cell_type": "code",
   "execution_count": 16,
   "metadata": {},
   "outputs": [],
   "source": [
    "df_clean['Price'] = df_clean['Price'].astype(int)"
   ]
  },
  {
   "cell_type": "code",
   "execution_count": 17,
   "metadata": {},
   "outputs": [
    {
     "name": "stdout",
     "output_type": "stream",
     "text": [
      "<class 'pandas.core.frame.DataFrame'>\n",
      "Int64Index: 9360 entries, 0 to 10840\n",
      "Data columns (total 14 columns):\n",
      "App               9360 non-null object\n",
      "Category          9360 non-null object\n",
      "Rating            9360 non-null float64\n",
      "Reviews           9360 non-null int64\n",
      "Size              9360 non-null float64\n",
      "Installs          9360 non-null int64\n",
      "Type              9360 non-null int64\n",
      "Price             9360 non-null int64\n",
      "Content Rating    9360 non-null object\n",
      "Genres            9360 non-null object\n",
      "Last Updated      9360 non-null object\n",
      "Current Ver       9360 non-null object\n",
      "Android Ver       9360 non-null object\n",
      "Category_new      9360 non-null int64\n",
      "dtypes: float64(2), int64(5), object(7)\n",
      "memory usage: 1.1+ MB\n"
     ]
    }
   ],
   "source": [
    "df_clean.info()"
   ]
  },
  {
   "cell_type": "code",
   "execution_count": 18,
   "metadata": {},
   "outputs": [
    {
     "data": {
      "text/plain": [
       "array(['Everyone', 'Teen', 'Everyone 10+', 'Mature 17+',\n",
       "       'Adults only 18+', 'Unrated'], dtype=object)"
      ]
     },
     "execution_count": 18,
     "metadata": {},
     "output_type": "execute_result"
    }
   ],
   "source": [
    "## Clean 'Content Rating' variable \n",
    "\n",
    "df_clean['Content Rating'].unique()"
   ]
  },
  {
   "cell_type": "code",
   "execution_count": 19,
   "metadata": {},
   "outputs": [],
   "source": [
    "Cont_dict = {}\n",
    "Cont_val = df_clean['Content Rating'].unique()\n",
    "\n",
    "for i in range(len(Cont_val)):\n",
    "    Cont_dict[Cont_val[i]] = i\n",
    "\n",
    "df_clean['Content Rating'] = df_clean['Content Rating'].map(Cont_dict)"
   ]
  },
  {
   "cell_type": "code",
   "execution_count": 20,
   "metadata": {},
   "outputs": [
    {
     "data": {
      "text/plain": [
       "0    0\n",
       "1    0\n",
       "2    0\n",
       "3    1\n",
       "4    0\n",
       "5    0\n",
       "6    0\n",
       "7    0\n",
       "8    0\n",
       "9    0\n",
       "Name: Content Rating, dtype: int64"
      ]
     },
     "execution_count": 20,
     "metadata": {},
     "output_type": "execute_result"
    }
   ],
   "source": [
    "df_clean['Content Rating'][0:10]"
   ]
  },
  {
   "cell_type": "code",
   "execution_count": 21,
   "metadata": {},
   "outputs": [
    {
     "data": {
      "text/plain": [
       "array(['Art & Design', 'Art & Design;Pretend Play',\n",
       "       'Art & Design;Creativity', 'Auto & Vehicles', 'Beauty',\n",
       "       'Books & Reference', 'Business', 'Comics', 'Comics;Creativity',\n",
       "       'Communication', 'Dating', 'Education;Education', 'Education',\n",
       "       'Education;Creativity', 'Education;Music & Video',\n",
       "       'Education;Action & Adventure', 'Education;Pretend Play',\n",
       "       'Education;Brain Games', 'Entertainment',\n",
       "       'Entertainment;Music & Video', 'Entertainment;Brain Games',\n",
       "       'Entertainment;Creativity', 'Events', 'Finance', 'Food & Drink',\n",
       "       'Health & Fitness', 'House & Home', 'Libraries & Demo',\n",
       "       'Lifestyle', 'Lifestyle;Pretend Play',\n",
       "       'Adventure;Action & Adventure', 'Arcade', 'Casual', 'Card',\n",
       "       'Casual;Pretend Play', 'Action', 'Strategy', 'Puzzle', 'Sports',\n",
       "       'Music', 'Word', 'Racing', 'Casual;Creativity',\n",
       "       'Casual;Action & Adventure', 'Simulation', 'Adventure', 'Board',\n",
       "       'Trivia', 'Role Playing', 'Simulation;Education',\n",
       "       'Action;Action & Adventure', 'Casual;Brain Games',\n",
       "       'Simulation;Action & Adventure', 'Educational;Creativity',\n",
       "       'Puzzle;Brain Games', 'Educational;Education', 'Card;Brain Games',\n",
       "       'Educational;Brain Games', 'Educational;Pretend Play',\n",
       "       'Entertainment;Education', 'Casual;Education',\n",
       "       'Music;Music & Video', 'Racing;Action & Adventure',\n",
       "       'Arcade;Pretend Play', 'Role Playing;Action & Adventure',\n",
       "       'Simulation;Pretend Play', 'Puzzle;Creativity',\n",
       "       'Sports;Action & Adventure', 'Educational;Action & Adventure',\n",
       "       'Arcade;Action & Adventure', 'Entertainment;Action & Adventure',\n",
       "       'Puzzle;Action & Adventure', 'Strategy;Action & Adventure',\n",
       "       'Music & Audio;Music & Video', 'Health & Fitness;Education',\n",
       "       'Adventure;Education', 'Board;Brain Games',\n",
       "       'Board;Action & Adventure', 'Board;Pretend Play',\n",
       "       'Casual;Music & Video', 'Role Playing;Pretend Play',\n",
       "       'Entertainment;Pretend Play', 'Video Players & Editors;Creativity',\n",
       "       'Card;Action & Adventure', 'Medical', 'Social', 'Shopping',\n",
       "       'Photography', 'Travel & Local',\n",
       "       'Travel & Local;Action & Adventure', 'Tools', 'Tools;Education',\n",
       "       'Personalization', 'Productivity', 'Parenting',\n",
       "       'Parenting;Music & Video', 'Parenting;Brain Games',\n",
       "       'Parenting;Education', 'Weather', 'Video Players & Editors',\n",
       "       'Video Players & Editors;Music & Video', 'News & Magazines',\n",
       "       'Maps & Navigation', 'Health & Fitness;Action & Adventure',\n",
       "       'Educational', 'Casino', 'Adventure;Brain Games',\n",
       "       'Lifestyle;Education', 'Books & Reference;Education',\n",
       "       'Puzzle;Education', 'Role Playing;Brain Games',\n",
       "       'Strategy;Education', 'Racing;Pretend Play',\n",
       "       'Communication;Creativity', 'Strategy;Creativity'], dtype=object)"
      ]
     },
     "execution_count": 21,
     "metadata": {},
     "output_type": "execute_result"
    }
   ],
   "source": [
    "## Clean 'Genres' variable \n",
    "\n",
    "df_clean['Genres'].unique()"
   ]
  },
  {
   "cell_type": "code",
   "execution_count": 22,
   "metadata": {},
   "outputs": [],
   "source": [
    "Gen_dict = {}\n",
    "Gen_val = df_clean['Genres'].unique()\n",
    "\n",
    "for i in range(len(Gen_val)):\n",
    "    Gen_dict[Gen_val[i]] = i\n",
    "\n",
    "df_clean['Genres'] = df_clean['Genres'].map(Gen_dict)"
   ]
  },
  {
   "cell_type": "code",
   "execution_count": 23,
   "metadata": {},
   "outputs": [],
   "source": [
    "df_clean.drop(labels = ['Last Updated','Current Ver','Android Ver','App'], axis = 1, inplace = True)"
   ]
  },
  {
   "cell_type": "code",
   "execution_count": 24,
   "metadata": {},
   "outputs": [
    {
     "name": "stdout",
     "output_type": "stream",
     "text": [
      "<class 'pandas.core.frame.DataFrame'>\n",
      "Int64Index: 9360 entries, 0 to 10840\n",
      "Data columns (total 10 columns):\n",
      "Category          9360 non-null object\n",
      "Rating            9360 non-null float64\n",
      "Reviews           9360 non-null int64\n",
      "Size              9360 non-null float64\n",
      "Installs          9360 non-null int64\n",
      "Type              9360 non-null int64\n",
      "Price             9360 non-null int64\n",
      "Content Rating    9360 non-null int64\n",
      "Genres            9360 non-null int64\n",
      "Category_new      9360 non-null int64\n",
      "dtypes: float64(2), int64(7), object(1)\n",
      "memory usage: 804.4+ KB\n"
     ]
    }
   ],
   "source": [
    "df_clean.info()"
   ]
  },
  {
   "cell_type": "markdown",
   "metadata": {},
   "source": [
    "## Modeling"
   ]
  },
  {
   "cell_type": "code",
   "execution_count": 25,
   "metadata": {},
   "outputs": [
    {
     "data": {
      "text/plain": [
       "array([ 0,  1,  2,  3,  4,  5,  6,  7,  8,  9, 10, 11, 12, 13, 14, 15, 16,\n",
       "       17, 18, 19, 20, 21, 22, 23, 24, 25, 26, 27, 28, 29, 30, 31, 32])"
      ]
     },
     "execution_count": 25,
     "metadata": {},
     "output_type": "execute_result"
    }
   ],
   "source": [
    "df_clean.Category_new.unique()"
   ]
  },
  {
   "cell_type": "code",
   "execution_count": 26,
   "metadata": {},
   "outputs": [
    {
     "data": {
      "text/plain": [
       "array([ 0,  1,  2,  3,  4,  5,  6,  7,  8,  9, 10, 12, 13, 15, 16, 17, 18,\n",
       "       14, 11, 20, 27, 26, 24, 28, 30, 29, 23, 25, 22, 32, 31, 21, 19])"
      ]
     },
     "execution_count": 26,
     "metadata": {},
     "output_type": "execute_result"
    }
   ],
   "source": [
    "# Liner Regression: LabelEncoder\n",
    "\n",
    "from sklearn import preprocessing\n",
    "\n",
    "lbl = preprocessing.LabelEncoder()\n",
    "lbl.fit(df_clean['Category'])\n",
    "df_clean['Category'] = lbl.transform(df_clean['Category'])\n",
    "df_clean['Category'].unique()"
   ]
  },
  {
   "cell_type": "code",
   "execution_count": 27,
   "metadata": {},
   "outputs": [],
   "source": [
    "# Liner Regression Model\n",
    "\n",
    "from sklearn.linear_model import LinearRegression\n",
    "\n",
    "X = df_clean.drop(labels = ['Category_new','Rating'],axis = 1)\n",
    "y = df_clean['Rating']\n",
    "\n",
    "X_train, X_test, y_train, y_test = train_test_split(X, y, test_size = 0.2)"
   ]
  },
  {
   "cell_type": "code",
   "execution_count": 28,
   "metadata": {},
   "outputs": [
    {
     "data": {
      "text/plain": [
       "((7488, 8), (1872, 8), (7488,), (1872,))"
      ]
     },
     "execution_count": 28,
     "metadata": {},
     "output_type": "execute_result"
    }
   ],
   "source": [
    "X_train.shape, X_test.shape, y_train.shape, y_test.shape"
   ]
  },
  {
   "cell_type": "code",
   "execution_count": 29,
   "metadata": {},
   "outputs": [
    {
     "data": {
      "text/html": [
       "<div>\n",
       "<style scoped>\n",
       "    .dataframe tbody tr th:only-of-type {\n",
       "        vertical-align: middle;\n",
       "    }\n",
       "\n",
       "    .dataframe tbody tr th {\n",
       "        vertical-align: top;\n",
       "    }\n",
       "\n",
       "    .dataframe thead th {\n",
       "        text-align: right;\n",
       "    }\n",
       "</style>\n",
       "<table border=\"1\" class=\"dataframe\">\n",
       "  <thead>\n",
       "    <tr style=\"text-align: right;\">\n",
       "      <th></th>\n",
       "      <th>Category</th>\n",
       "      <th>Reviews</th>\n",
       "      <th>Size</th>\n",
       "      <th>Installs</th>\n",
       "      <th>Type</th>\n",
       "      <th>Price</th>\n",
       "      <th>Content Rating</th>\n",
       "      <th>Genres</th>\n",
       "    </tr>\n",
       "  </thead>\n",
       "  <tbody>\n",
       "    <tr>\n",
       "      <th>377</th>\n",
       "      <td>6</td>\n",
       "      <td>40751</td>\n",
       "      <td>35000000.0</td>\n",
       "      <td>10000000</td>\n",
       "      <td>0</td>\n",
       "      <td>0</td>\n",
       "      <td>1</td>\n",
       "      <td>9</td>\n",
       "    </tr>\n",
       "    <tr>\n",
       "      <th>8377</th>\n",
       "      <td>29</td>\n",
       "      <td>27</td>\n",
       "      <td>34000000.0</td>\n",
       "      <td>1000</td>\n",
       "      <td>0</td>\n",
       "      <td>0</td>\n",
       "      <td>0</td>\n",
       "      <td>90</td>\n",
       "    </tr>\n",
       "    <tr>\n",
       "      <th>3439</th>\n",
       "      <td>23</td>\n",
       "      <td>87300</td>\n",
       "      <td>13000000.0</td>\n",
       "      <td>1000000</td>\n",
       "      <td>0</td>\n",
       "      <td>0</td>\n",
       "      <td>0</td>\n",
       "      <td>92</td>\n",
       "    </tr>\n",
       "    <tr>\n",
       "      <th>9218</th>\n",
       "      <td>4</td>\n",
       "      <td>1</td>\n",
       "      <td>4300000.0</td>\n",
       "      <td>5</td>\n",
       "      <td>0</td>\n",
       "      <td>0</td>\n",
       "      <td>0</td>\n",
       "      <td>6</td>\n",
       "    </tr>\n",
       "    <tr>\n",
       "      <th>9368</th>\n",
       "      <td>20</td>\n",
       "      <td>18</td>\n",
       "      <td>3500000.0</td>\n",
       "      <td>1000</td>\n",
       "      <td>0</td>\n",
       "      <td>0</td>\n",
       "      <td>0</td>\n",
       "      <td>84</td>\n",
       "    </tr>\n",
       "  </tbody>\n",
       "</table>\n",
       "</div>"
      ],
      "text/plain": [
       "      Category  Reviews        Size  Installs  Type  Price  Content Rating  \\\n",
       "377          6    40751  35000000.0  10000000     0      0               1   \n",
       "8377        29       27  34000000.0      1000     0      0               0   \n",
       "3439        23    87300  13000000.0   1000000     0      0               0   \n",
       "9218         4        1   4300000.0         5     0      0               0   \n",
       "9368        20       18   3500000.0      1000     0      0               0   \n",
       "\n",
       "      Genres  \n",
       "377        9  \n",
       "8377      90  \n",
       "3439      92  \n",
       "9218       6  \n",
       "9368      84  "
      ]
     },
     "execution_count": 29,
     "metadata": {},
     "output_type": "execute_result"
    }
   ],
   "source": [
    "X_train.head()"
   ]
  },
  {
   "cell_type": "code",
   "execution_count": 30,
   "metadata": {},
   "outputs": [
    {
     "data": {
      "text/html": [
       "<table class=\"simpletable\">\n",
       "<caption>OLS Regression Results</caption>\n",
       "<tr>\n",
       "  <th>Dep. Variable:</th>         <td>Rating</td>      <th>  R-squared:         </th> <td>   0.852</td> \n",
       "</tr>\n",
       "<tr>\n",
       "  <th>Model:</th>                   <td>OLS</td>       <th>  Adj. R-squared:    </th> <td>   0.852</td> \n",
       "</tr>\n",
       "<tr>\n",
       "  <th>Method:</th>             <td>Least Squares</td>  <th>  F-statistic:       </th> <td>   6730.</td> \n",
       "</tr>\n",
       "<tr>\n",
       "  <th>Date:</th>             <td>Wed, 12 Dec 2018</td> <th>  Prob (F-statistic):</th>  <td>  0.00</td>  \n",
       "</tr>\n",
       "<tr>\n",
       "  <th>Time:</th>                 <td>17:10:33</td>     <th>  Log-Likelihood:    </th> <td> -17824.</td> \n",
       "</tr>\n",
       "<tr>\n",
       "  <th>No. Observations:</th>      <td>  9360</td>      <th>  AIC:               </th> <td>3.566e+04</td>\n",
       "</tr>\n",
       "<tr>\n",
       "  <th>Df Residuals:</th>          <td>  9352</td>      <th>  BIC:               </th> <td>3.572e+04</td>\n",
       "</tr>\n",
       "<tr>\n",
       "  <th>Df Model:</th>              <td>     8</td>      <th>                     </th>     <td> </td>    \n",
       "</tr>\n",
       "<tr>\n",
       "  <th>Covariance Type:</th>      <td>nonrobust</td>    <th>                     </th>     <td> </td>    \n",
       "</tr>\n",
       "</table>\n",
       "<table class=\"simpletable\">\n",
       "<tr>\n",
       "         <td></td>           <th>coef</th>     <th>std err</th>      <th>t</th>      <th>P>|t|</th>  <th>[0.025</th>    <th>0.975]</th>  \n",
       "</tr>\n",
       "<tr>\n",
       "  <th>Category</th>       <td>    0.2035</td> <td>    0.003</td> <td>   68.664</td> <td> 0.000</td> <td>    0.198</td> <td>    0.209</td>\n",
       "</tr>\n",
       "<tr>\n",
       "  <th>Reviews</th>        <td>-1.769e-08</td> <td> 7.03e-09</td> <td>   -2.518</td> <td> 0.012</td> <td>-3.15e-08</td> <td>-3.92e-09</td>\n",
       "</tr>\n",
       "<tr>\n",
       "  <th>Size</th>           <td> 3.178e-08</td> <td> 6.69e-10</td> <td>   47.511</td> <td> 0.000</td> <td> 3.05e-08</td> <td> 3.31e-08</td>\n",
       "</tr>\n",
       "<tr>\n",
       "  <th>Installs</th>       <td> 1.015e-09</td> <td>  2.4e-10</td> <td>    4.224</td> <td> 0.000</td> <td> 5.44e-10</td> <td> 1.49e-09</td>\n",
       "</tr>\n",
       "<tr>\n",
       "  <th>Type</th>           <td>    0.7884</td> <td>    0.068</td> <td>   11.588</td> <td> 0.000</td> <td>    0.655</td> <td>    0.922</td>\n",
       "</tr>\n",
       "<tr>\n",
       "  <th>Price</th>          <td> 7.881e-06</td> <td> 1.09e-05</td> <td>    0.723</td> <td> 0.470</td> <td>-1.35e-05</td> <td> 2.93e-05</td>\n",
       "</tr>\n",
       "<tr>\n",
       "  <th>Content Rating</th> <td>    0.3928</td> <td>    0.021</td> <td>   18.332</td> <td> 0.000</td> <td>    0.351</td> <td>    0.435</td>\n",
       "</tr>\n",
       "<tr>\n",
       "  <th>Genres</th>         <td>   -0.0147</td> <td>    0.001</td> <td>  -16.669</td> <td> 0.000</td> <td>   -0.016</td> <td>   -0.013</td>\n",
       "</tr>\n",
       "</table>\n",
       "<table class=\"simpletable\">\n",
       "<tr>\n",
       "  <th>Omnibus:</th>       <td>21.069</td> <th>  Durbin-Watson:     </th> <td>   1.088</td>\n",
       "</tr>\n",
       "<tr>\n",
       "  <th>Prob(Omnibus):</th> <td> 0.000</td> <th>  Jarque-Bera (JB):  </th> <td>  19.868</td>\n",
       "</tr>\n",
       "<tr>\n",
       "  <th>Skew:</th>          <td>-0.085</td> <th>  Prob(JB):          </th> <td>4.85e-05</td>\n",
       "</tr>\n",
       "<tr>\n",
       "  <th>Kurtosis:</th>      <td> 2.852</td> <th>  Cond. No.          </th> <td>3.78e+08</td>\n",
       "</tr>\n",
       "</table><br/><br/>Warnings:<br/>[1] Standard Errors assume that the covariance matrix of the errors is correctly specified.<br/>[2] The condition number is large, 3.78e+08. This might indicate that there are<br/>strong multicollinearity or other numerical problems."
      ],
      "text/plain": [
       "<class 'statsmodels.iolib.summary.Summary'>\n",
       "\"\"\"\n",
       "                            OLS Regression Results                            \n",
       "==============================================================================\n",
       "Dep. Variable:                 Rating   R-squared:                       0.852\n",
       "Model:                            OLS   Adj. R-squared:                  0.852\n",
       "Method:                 Least Squares   F-statistic:                     6730.\n",
       "Date:                Wed, 12 Dec 2018   Prob (F-statistic):               0.00\n",
       "Time:                        17:10:33   Log-Likelihood:                -17824.\n",
       "No. Observations:                9360   AIC:                         3.566e+04\n",
       "Df Residuals:                    9352   BIC:                         3.572e+04\n",
       "Df Model:                           8                                         \n",
       "Covariance Type:            nonrobust                                         \n",
       "==================================================================================\n",
       "                     coef    std err          t      P>|t|      [0.025      0.975]\n",
       "----------------------------------------------------------------------------------\n",
       "Category           0.2035      0.003     68.664      0.000       0.198       0.209\n",
       "Reviews        -1.769e-08   7.03e-09     -2.518      0.012   -3.15e-08   -3.92e-09\n",
       "Size            3.178e-08   6.69e-10     47.511      0.000    3.05e-08    3.31e-08\n",
       "Installs        1.015e-09    2.4e-10      4.224      0.000    5.44e-10    1.49e-09\n",
       "Type               0.7884      0.068     11.588      0.000       0.655       0.922\n",
       "Price           7.881e-06   1.09e-05      0.723      0.470   -1.35e-05    2.93e-05\n",
       "Content Rating     0.3928      0.021     18.332      0.000       0.351       0.435\n",
       "Genres            -0.0147      0.001    -16.669      0.000      -0.016      -0.013\n",
       "==============================================================================\n",
       "Omnibus:                       21.069   Durbin-Watson:                   1.088\n",
       "Prob(Omnibus):                  0.000   Jarque-Bera (JB):               19.868\n",
       "Skew:                          -0.085   Prob(JB):                     4.85e-05\n",
       "Kurtosis:                       2.852   Cond. No.                     3.78e+08\n",
       "==============================================================================\n",
       "\n",
       "Warnings:\n",
       "[1] Standard Errors assume that the covariance matrix of the errors is correctly specified.\n",
       "[2] The condition number is large, 3.78e+08. This might indicate that there are\n",
       "strong multicollinearity or other numerical problems.\n",
       "\"\"\""
      ]
     },
     "execution_count": 30,
     "metadata": {},
     "output_type": "execute_result"
    }
   ],
   "source": [
    "import statsmodels.api as sm\n",
    "\n",
    "model = sm.OLS(y,X).fit()\n",
    "model.summary()"
   ]
  },
  {
   "cell_type": "code",
   "execution_count": 31,
   "metadata": {},
   "outputs": [],
   "source": [
    "# Liner Regression Prediciton\n",
    "\n",
    "model = LinearRegression()\n",
    "model.fit(X_train,y_train)\n",
    "\n",
    "Results = model.predict(X_test)"
   ]
  },
  {
   "cell_type": "code",
   "execution_count": 32,
   "metadata": {},
   "outputs": [
    {
     "name": "stdout",
     "output_type": "stream",
     "text": [
      "[4.14131028 4.25518225 4.30873527 ... 4.17009899 4.19984977 4.25706889]\n"
     ]
    }
   ],
   "source": [
    "print(Results)"
   ]
  },
  {
   "cell_type": "code",
   "execution_count": 33,
   "metadata": {},
   "outputs": [
    {
     "name": "stdout",
     "output_type": "stream",
     "text": [
      "Simple Regression Results\n",
      "      Actual  Predicted\n",
      "3539     4.2   4.141310\n",
      "4869     4.4   4.255182\n",
      "8474     2.7   4.308735\n",
      "9892     3.8   4.198996\n",
      "5997     3.6   4.166366\n",
      "\n",
      "Mean squared Log Error : 0.012746503818520653\n"
     ]
    }
   ],
   "source": [
    "# Mean Squared Errors (MSE)\n",
    "\n",
    "result = pd.DataFrame({'Actual': y_test, 'Predicted': Results})  \n",
    "print('Simple Regression Results')\n",
    "print(result.head())\n",
    "print('')\n",
    "\n",
    "MSE = metrics.mean_squared_log_error(y_test,Results)\n",
    "print('Mean squared Log Error : ' + str(MSE))"
   ]
  },
  {
   "cell_type": "code",
   "execution_count": 34,
   "metadata": {},
   "outputs": [],
   "source": [
    "# Support Vector Machines Model(SVM)\n",
    "\n",
    "from sklearn import svm\n",
    "\n",
    "X = df_clean.drop(labels = ['Category','Rating','Genres'],axis = 1)\n",
    "y = df_clean['Rating']\n",
    "\n",
    "X_train, X_test, y_train, y_test = train_test_split(X, y, test_size = 0.2)"
   ]
  },
  {
   "cell_type": "code",
   "execution_count": 35,
   "metadata": {},
   "outputs": [
    {
     "name": "stderr",
     "output_type": "stream",
     "text": [
      "/Users/alen/anaconda3/lib/python3.6/site-packages/sklearn/svm/base.py:196: FutureWarning: The default value of gamma will change from 'auto' to 'scale' in version 0.22 to account better for unscaled features. Set gamma explicitly to 'auto' or 'scale' to avoid this warning.\n",
      "  \"avoid this warning.\", FutureWarning)\n"
     ]
    }
   ],
   "source": [
    "# SVM Prediction\n",
    "\n",
    "model2 = svm.SVR()\n",
    "model2.fit(X_train,y_train)\n",
    "\n",
    "Results2 = model2.predict(X_test)"
   ]
  },
  {
   "cell_type": "code",
   "execution_count": 36,
   "metadata": {},
   "outputs": [
    {
     "name": "stdout",
     "output_type": "stream",
     "text": [
      "[4.19288688 4.8403149  4.19288688 ... 4.19288688 4.19288688 4.19288688]\n"
     ]
    }
   ],
   "source": [
    "print(Results2)"
   ]
  },
  {
   "cell_type": "code",
   "execution_count": 37,
   "metadata": {},
   "outputs": [
    {
     "name": "stdout",
     "output_type": "stream",
     "text": [
      "Support Vector Regression\n",
      "       Actual  Predicted\n",
      "1866      4.4   4.192887\n",
      "7110      4.3   4.840315\n",
      "3270      4.5   4.192887\n",
      "9276      3.3   4.192887\n",
      "10207     4.7   4.192887\n",
      "\n",
      "Mean squared Log Error : 0.014375746856041191\n"
     ]
    }
   ],
   "source": [
    "# Mean Squared Errors (MSE)\n",
    "\n",
    "result = pd.DataFrame({'Actual': y_test, 'Predicted': Results2})  \n",
    "print('Support Vector Regression')\n",
    "print(result.head())  \n",
    "print('')\n",
    "\n",
    "MSE2 = metrics.mean_squared_log_error(y_test,Results2)\n",
    "print('Mean squared Log Error : ' + str(MSE2))"
   ]
  },
  {
   "cell_type": "code",
   "execution_count": 38,
   "metadata": {},
   "outputs": [],
   "source": [
    "# Set 'Rating >= 4.5' to 1 ; otherwise to 0\n",
    "\n",
    "df_clean.loc[df_clean['Rating'] >= 4.5 , 'Rating'] = 1"
   ]
  },
  {
   "cell_type": "code",
   "execution_count": 39,
   "metadata": {},
   "outputs": [
    {
     "data": {
      "text/plain": [
       "Category          2970\n",
       "Rating            2970\n",
       "Reviews           2970\n",
       "Size              2970\n",
       "Installs          2970\n",
       "Type              2970\n",
       "Price             2970\n",
       "Content Rating    2970\n",
       "Genres            2970\n",
       "Category_new      2970\n",
       "dtype: int64"
      ]
     },
     "execution_count": 39,
     "metadata": {},
     "output_type": "execute_result"
    }
   ],
   "source": [
    "df_clean[df_clean['Rating'] == 1].count()"
   ]
  },
  {
   "cell_type": "code",
   "execution_count": 40,
   "metadata": {},
   "outputs": [],
   "source": [
    "df_clean.loc[df_clean['Rating'] != 1 , 'Rating'] = 0"
   ]
  },
  {
   "cell_type": "code",
   "execution_count": 41,
   "metadata": {},
   "outputs": [
    {
     "data": {
      "text/plain": [
       "Category          6390\n",
       "Rating            6390\n",
       "Reviews           6390\n",
       "Size              6390\n",
       "Installs          6390\n",
       "Type              6390\n",
       "Price             6390\n",
       "Content Rating    6390\n",
       "Genres            6390\n",
       "Category_new      6390\n",
       "dtype: int64"
      ]
     },
     "execution_count": 41,
     "metadata": {},
     "output_type": "execute_result"
    }
   ],
   "source": [
    "df_clean[df_clean['Rating'] == 0].count()"
   ]
  },
  {
   "cell_type": "code",
   "execution_count": 42,
   "metadata": {},
   "outputs": [
    {
     "data": {
      "text/plain": [
       "0.0    6390\n",
       "1.0    2970\n",
       "Name: Rating, dtype: int64"
      ]
     },
     "execution_count": 42,
     "metadata": {},
     "output_type": "execute_result"
    }
   ],
   "source": [
    "df_clean['Rating'].value_counts()"
   ]
  },
  {
   "cell_type": "code",
   "execution_count": 43,
   "metadata": {},
   "outputs": [
    {
     "data": {
      "text/html": [
       "<div>\n",
       "<style scoped>\n",
       "    .dataframe tbody tr th:only-of-type {\n",
       "        vertical-align: middle;\n",
       "    }\n",
       "\n",
       "    .dataframe tbody tr th {\n",
       "        vertical-align: top;\n",
       "    }\n",
       "\n",
       "    .dataframe thead th {\n",
       "        text-align: right;\n",
       "    }\n",
       "</style>\n",
       "<table border=\"1\" class=\"dataframe\">\n",
       "  <thead>\n",
       "    <tr style=\"text-align: right;\">\n",
       "      <th></th>\n",
       "      <th>Category</th>\n",
       "      <th>Rating</th>\n",
       "      <th>Reviews</th>\n",
       "      <th>Size</th>\n",
       "      <th>Installs</th>\n",
       "      <th>Type</th>\n",
       "      <th>Price</th>\n",
       "      <th>Content Rating</th>\n",
       "      <th>Genres</th>\n",
       "      <th>Category_new</th>\n",
       "    </tr>\n",
       "  </thead>\n",
       "  <tbody>\n",
       "    <tr>\n",
       "      <th>0</th>\n",
       "      <td>0</td>\n",
       "      <td>0.0</td>\n",
       "      <td>159</td>\n",
       "      <td>19000000.0</td>\n",
       "      <td>10000</td>\n",
       "      <td>0</td>\n",
       "      <td>0</td>\n",
       "      <td>0</td>\n",
       "      <td>0</td>\n",
       "      <td>0</td>\n",
       "    </tr>\n",
       "    <tr>\n",
       "      <th>1</th>\n",
       "      <td>0</td>\n",
       "      <td>0.0</td>\n",
       "      <td>967</td>\n",
       "      <td>14000000.0</td>\n",
       "      <td>500000</td>\n",
       "      <td>0</td>\n",
       "      <td>0</td>\n",
       "      <td>0</td>\n",
       "      <td>1</td>\n",
       "      <td>0</td>\n",
       "    </tr>\n",
       "    <tr>\n",
       "      <th>2</th>\n",
       "      <td>0</td>\n",
       "      <td>1.0</td>\n",
       "      <td>87510</td>\n",
       "      <td>8700000.0</td>\n",
       "      <td>5000000</td>\n",
       "      <td>0</td>\n",
       "      <td>0</td>\n",
       "      <td>0</td>\n",
       "      <td>0</td>\n",
       "      <td>0</td>\n",
       "    </tr>\n",
       "    <tr>\n",
       "      <th>3</th>\n",
       "      <td>0</td>\n",
       "      <td>1.0</td>\n",
       "      <td>215644</td>\n",
       "      <td>25000000.0</td>\n",
       "      <td>50000000</td>\n",
       "      <td>0</td>\n",
       "      <td>0</td>\n",
       "      <td>1</td>\n",
       "      <td>0</td>\n",
       "      <td>0</td>\n",
       "    </tr>\n",
       "    <tr>\n",
       "      <th>4</th>\n",
       "      <td>0</td>\n",
       "      <td>0.0</td>\n",
       "      <td>967</td>\n",
       "      <td>2800000.0</td>\n",
       "      <td>100000</td>\n",
       "      <td>0</td>\n",
       "      <td>0</td>\n",
       "      <td>0</td>\n",
       "      <td>2</td>\n",
       "      <td>0</td>\n",
       "    </tr>\n",
       "  </tbody>\n",
       "</table>\n",
       "</div>"
      ],
      "text/plain": [
       "   Category  Rating  Reviews        Size  Installs  Type  Price  \\\n",
       "0         0     0.0      159  19000000.0     10000     0      0   \n",
       "1         0     0.0      967  14000000.0    500000     0      0   \n",
       "2         0     1.0    87510   8700000.0   5000000     0      0   \n",
       "3         0     1.0   215644  25000000.0  50000000     0      0   \n",
       "4         0     0.0      967   2800000.0    100000     0      0   \n",
       "\n",
       "   Content Rating  Genres  Category_new  \n",
       "0               0       0             0  \n",
       "1               0       1             0  \n",
       "2               0       0             0  \n",
       "3               1       0             0  \n",
       "4               0       2             0  "
      ]
     },
     "execution_count": 43,
     "metadata": {},
     "output_type": "execute_result"
    }
   ],
   "source": [
    "df_clean.head()"
   ]
  },
  {
   "cell_type": "code",
   "execution_count": 44,
   "metadata": {},
   "outputs": [],
   "source": [
    "# Random Forest Regressor Model(RFR)\n",
    "\n",
    "from sklearn.ensemble import RandomForestRegressor\n",
    "\n",
    "X = df_clean.drop(labels = ['Category_new','Rating'],axis = 1)\n",
    "y = df_clean['Rating']\n",
    "\n",
    "X_train, X_test, y_train, y_test = train_test_split(X, y, test_size = 0.2)"
   ]
  },
  {
   "cell_type": "code",
   "execution_count": 45,
   "metadata": {},
   "outputs": [
    {
     "name": "stdout",
     "output_type": "stream",
     "text": [
      "<class 'pandas.core.frame.DataFrame'>\n",
      "Int64Index: 9360 entries, 0 to 10840\n",
      "Data columns (total 8 columns):\n",
      "Category          9360 non-null int64\n",
      "Reviews           9360 non-null int64\n",
      "Size              9360 non-null float64\n",
      "Installs          9360 non-null int64\n",
      "Type              9360 non-null int64\n",
      "Price             9360 non-null int64\n",
      "Content Rating    9360 non-null int64\n",
      "Genres            9360 non-null int64\n",
      "dtypes: float64(1), int64(7)\n",
      "memory usage: 658.1 KB\n"
     ]
    }
   ],
   "source": [
    "X.info()"
   ]
  },
  {
   "cell_type": "code",
   "execution_count": 46,
   "metadata": {},
   "outputs": [
    {
     "name": "stderr",
     "output_type": "stream",
     "text": [
      "/Users/alen/anaconda3/lib/python3.6/site-packages/sklearn/ensemble/forest.py:246: FutureWarning: The default value of n_estimators will change from 10 in version 0.20 to 100 in 0.22.\n",
      "  \"10 in version 0.20 to 100 in 0.22.\", FutureWarning)\n"
     ]
    },
    {
     "name": "stdout",
     "output_type": "stream",
     "text": [
      "Features by their score:\n"
     ]
    },
    {
     "data": {
      "text/plain": [
       "array([0.09429628, 0.35204295, 0.25899961, 0.11415128, 0.0057267 ,\n",
       "       0.0194474 , 0.0338902 , 0.12144559])"
      ]
     },
     "execution_count": 46,
     "metadata": {},
     "output_type": "execute_result"
    }
   ],
   "source": [
    "# # Random Forest Regressor: Feature Importance \n",
    "\n",
    "rf = RandomForestRegressor()\n",
    "rf.fit(X, y)\n",
    "print (\"Features by their score:\")\n",
    "rf.feature_importances_"
   ]
  },
  {
   "cell_type": "code",
   "execution_count": 47,
   "metadata": {},
   "outputs": [
    {
     "name": "stdout",
     "output_type": "stream",
     "text": [
      "Feature Importance by their score:\n"
     ]
    },
    {
     "data": {
      "text/html": [
       "<div>\n",
       "<style scoped>\n",
       "    .dataframe tbody tr th:only-of-type {\n",
       "        vertical-align: middle;\n",
       "    }\n",
       "\n",
       "    .dataframe tbody tr th {\n",
       "        vertical-align: top;\n",
       "    }\n",
       "\n",
       "    .dataframe thead th {\n",
       "        text-align: right;\n",
       "    }\n",
       "</style>\n",
       "<table border=\"1\" class=\"dataframe\">\n",
       "  <thead>\n",
       "    <tr style=\"text-align: right;\">\n",
       "      <th></th>\n",
       "      <th>Category</th>\n",
       "      <th>Reviews</th>\n",
       "      <th>Size</th>\n",
       "      <th>Installs</th>\n",
       "      <th>Type</th>\n",
       "      <th>Price</th>\n",
       "      <th>Content Rating</th>\n",
       "      <th>Genres</th>\n",
       "    </tr>\n",
       "  </thead>\n",
       "  <tbody>\n",
       "    <tr>\n",
       "      <th>0</th>\n",
       "      <td>0.094296</td>\n",
       "      <td>0.352043</td>\n",
       "      <td>0.259</td>\n",
       "      <td>0.114151</td>\n",
       "      <td>0.005727</td>\n",
       "      <td>0.019447</td>\n",
       "      <td>0.03389</td>\n",
       "      <td>0.121446</td>\n",
       "    </tr>\n",
       "  </tbody>\n",
       "</table>\n",
       "</div>"
      ],
      "text/plain": [
       "   Category   Reviews   Size  Installs      Type     Price  Content Rating  \\\n",
       "0  0.094296  0.352043  0.259  0.114151  0.005727  0.019447         0.03389   \n",
       "\n",
       "     Genres  \n",
       "0  0.121446  "
      ]
     },
     "execution_count": 47,
     "metadata": {},
     "output_type": "execute_result"
    }
   ],
   "source": [
    "a = pd.DataFrame({'Category': [rf.feature_importances_[0]], 'Reviews': [rf.feature_importances_[1]], \\\n",
    "              'Size': [rf.feature_importances_[2]], 'Installs': [rf.feature_importances_[3]], \\\n",
    "              'Type': [rf.feature_importances_[4]], 'Price': [rf.feature_importances_[5]], \\\n",
    "              'Content Rating': [rf.feature_importances_[6]], 'Genres': [rf.feature_importances_[7]]}) \n",
    "print('Feature Importance by their score:')\n",
    "a"
   ]
  },
  {
   "cell_type": "code",
   "execution_count": 48,
   "metadata": {},
   "outputs": [
    {
     "name": "stderr",
     "output_type": "stream",
     "text": [
      "/Users/alen/anaconda3/lib/python3.6/site-packages/sklearn/ensemble/forest.py:246: FutureWarning: The default value of n_estimators will change from 10 in version 0.20 to 100 in 0.22.\n",
      "  \"10 in version 0.20 to 100 in 0.22.\", FutureWarning)\n"
     ]
    }
   ],
   "source": [
    "# Random Forest Regressor \n",
    "\n",
    "model3 = RandomForestRegressor()\n",
    "model3.fit(X_train,y_train)\n",
    "Results3 = model3.predict(X_test)"
   ]
  },
  {
   "cell_type": "code",
   "execution_count": 49,
   "metadata": {},
   "outputs": [],
   "source": [
    "# Random Forest Classification (RFC)\n",
    "\n",
    "from sklearn.ensemble import RandomForestClassifier\n",
    "\n",
    "#Create a Gaussian Classifier\n",
    "clf = RandomForestClassifier(n_estimators=150)\n",
    "\n",
    "#Train the model using the training sets y_pred=clf.predict(X_test)\n",
    "clf.fit(X_train,y_train)\n",
    "\n",
    "y_pred = clf.predict(X_test)"
   ]
  },
  {
   "cell_type": "code",
   "execution_count": 50,
   "metadata": {},
   "outputs": [
    {
     "name": "stdout",
     "output_type": "stream",
     "text": [
      "Accuracy: 0.7612179487179487\n"
     ]
    }
   ],
   "source": [
    "# Model Accuracy\n",
    "\n",
    "from sklearn import metrics\n",
    "\n",
    "print(\"Accuracy:\",metrics.accuracy_score(y_test, y_pred))"
   ]
  },
  {
   "cell_type": "code",
   "execution_count": 51,
   "metadata": {},
   "outputs": [
    {
     "data": {
      "text/plain": [
       "Reviews           0.339831\n",
       "Size              0.268985\n",
       "Installs          0.122721\n",
       "Genres            0.121045\n",
       "Category          0.092669\n",
       "Content Rating    0.031038\n",
       "Price             0.018920\n",
       "Type              0.004790\n",
       "dtype: float64"
      ]
     },
     "execution_count": 51,
     "metadata": {},
     "output_type": "execute_result"
    }
   ],
   "source": [
    "import pandas as pd\n",
    "feature_imp = pd.Series(clf.feature_importances_,index = X_train.columns).sort_values(ascending=False)\n",
    "feature_imp"
   ]
  },
  {
   "cell_type": "code",
   "execution_count": 52,
   "metadata": {},
   "outputs": [
    {
     "name": "stderr",
     "output_type": "stream",
     "text": [
      "No handles with labels found to put in legend.\n"
     ]
    },
    {
     "data": {
      "image/png": "[encoded data removed]",
      "text/plain": [
       "<Figure size 432x288 with 1 Axes>"
      ]
     },
     "metadata": {
      "needs_background": "light"
     },
     "output_type": "display_data"
    }
   ],
   "source": [
    "# Visualizing Important features (RFC)\n",
    "\n",
    "import matplotlib.pyplot as plt\n",
    "import seaborn as sns\n",
    "%matplotlib inline\n",
    "\n",
    "# Creating a bar plot\n",
    "sns.barplot(x=feature_imp, y=feature_imp.index)\n",
    "#sns.barplot(x=feature_imp.index, y=feature_imp)\n",
    "\n",
    "# Add labels to your graph\n",
    "plt.xlabel('Feature Importance Score')\n",
    "plt.ylabel('Features')\n",
    "plt.title(\"Visualizing Important Features\")\n",
    "plt.legend()\n",
    "plt.show()"
   ]
  },
  {
   "cell_type": "code",
   "execution_count": 53,
   "metadata": {},
   "outputs": [
    {
     "name": "stdout",
     "output_type": "stream",
     "text": [
      "[0.  0.  0.  ... 0.5 0.7 0. ]\n"
     ]
    }
   ],
   "source": [
    "print(Results3)"
   ]
  },
  {
   "cell_type": "code",
   "execution_count": 54,
   "metadata": {},
   "outputs": [
    {
     "name": "stdout",
     "output_type": "stream",
     "text": [
      "Random Forest Regressor\n",
      "       Actual  Predicted\n",
      "10509     0.0        0.0\n",
      "9936      0.0        0.0\n",
      "6411      0.0        0.0\n",
      "6493      0.0        1.0\n",
      "6731      0.0        0.8\n",
      "\n",
      "Mean squared Log Error : 0.09001617985607141\n"
     ]
    }
   ],
   "source": [
    "result = pd.DataFrame({'Actual': y_test, 'Predicted': Results3})  \n",
    "print('Random Forest Regressor')\n",
    "print(result.head())  \n",
    "print('')\n",
    "\n",
    "MSE3 = metrics.mean_squared_log_error(y_test,Results3)\n",
    "print('Mean squared Log Error : ' + str(MSE3))"
   ]
  },
  {
   "cell_type": "code",
   "execution_count": 55,
   "metadata": {},
   "outputs": [
    {
     "data": {
      "text/html": [
       "<div>\n",
       "<style scoped>\n",
       "    .dataframe tbody tr th:only-of-type {\n",
       "        vertical-align: middle;\n",
       "    }\n",
       "\n",
       "    .dataframe tbody tr th {\n",
       "        vertical-align: top;\n",
       "    }\n",
       "\n",
       "    .dataframe thead th {\n",
       "        text-align: right;\n",
       "    }\n",
       "</style>\n",
       "<table border=\"1\" class=\"dataframe\">\n",
       "  <thead>\n",
       "    <tr style=\"text-align: right;\">\n",
       "      <th></th>\n",
       "      <th>LR</th>\n",
       "      <th>SVR</th>\n",
       "      <th>RFR</th>\n",
       "    </tr>\n",
       "  </thead>\n",
       "  <tbody>\n",
       "    <tr>\n",
       "      <th>0</th>\n",
       "      <td>0.012747</td>\n",
       "      <td>0.014376</td>\n",
       "      <td>0.090016</td>\n",
       "    </tr>\n",
       "  </tbody>\n",
       "</table>\n",
       "</div>"
      ],
      "text/plain": [
       "         LR       SVR       RFR\n",
       "0  0.012747  0.014376  0.090016"
      ]
     },
     "execution_count": 55,
     "metadata": {},
     "output_type": "execute_result"
    }
   ],
   "source": [
    "# Comparison between each MSE\n",
    "\n",
    "MSE_compar = pd.DataFrame({'LR': [MSE], 'SVR': [MSE2], 'RFR': [MSE3]})  \n",
    "MSE_compar"
   ]
  },
  {
   "cell_type": "code",
   "execution_count": 56,
   "metadata": {},
   "outputs": [
    {
     "data": {
      "image/png": "[encoded data removed]",
      "text/plain": [
       "<Figure size 432x288 with 1 Axes>"
      ]
     },
     "metadata": {
      "needs_background": "light"
     },
     "output_type": "display_data"
    }
   ],
   "source": [
    "MSE_compar.plot(kind='barh');"
   ]
  },
  {
   "cell_type": "code",
   "execution_count": 57,
   "metadata": {},
   "outputs": [
    {
     "data": {
      "text/html": [
       "<div>\n",
       "<style scoped>\n",
       "    .dataframe tbody tr th:only-of-type {\n",
       "        vertical-align: middle;\n",
       "    }\n",
       "\n",
       "    .dataframe tbody tr th {\n",
       "        vertical-align: top;\n",
       "    }\n",
       "\n",
       "    .dataframe thead th {\n",
       "        text-align: right;\n",
       "    }\n",
       "</style>\n",
       "<table border=\"1\" class=\"dataframe\">\n",
       "  <thead>\n",
       "    <tr style=\"text-align: right;\">\n",
       "      <th></th>\n",
       "      <th>LR</th>\n",
       "      <th>RFR</th>\n",
       "    </tr>\n",
       "  </thead>\n",
       "  <tbody>\n",
       "    <tr>\n",
       "      <th>0</th>\n",
       "      <td>0.012747</td>\n",
       "      <td>0.090016</td>\n",
       "    </tr>\n",
       "  </tbody>\n",
       "</table>\n",
       "</div>"
      ],
      "text/plain": [
       "         LR       RFR\n",
       "0  0.012747  0.090016"
      ]
     },
     "execution_count": 57,
     "metadata": {},
     "output_type": "execute_result"
    }
   ],
   "source": [
    "# Comparison between each MSE\n",
    "\n",
    "MSE_compar = pd.DataFrame({'LR': [MSE], 'RFR': [MSE3]})  \n",
    "MSE_compar"
   ]
  },
  {
   "cell_type": "code",
   "execution_count": 58,
   "metadata": {},
   "outputs": [
    {
     "data": {
      "image/png": "[encoded data removed]",
      "text/plain": [
       "<Figure size 432x288 with 1 Axes>"
      ]
     },
     "metadata": {
      "needs_background": "light"
     },
     "output_type": "display_data"
    }
   ],
   "source": [
    "MSE_compar.plot(kind='barh');"
   ]
  },
  {
   "cell_type": "code",
   "execution_count": null,
   "metadata": {},
   "outputs": [],
   "source": []
  }
 ],
 "metadata": {
  "kernelspec": {
   "display_name": "Python 3",
   "language": "python",
   "name": "python3"
  },
  "language_info": {
   "codemirror_mode": {
    "name": "ipython",
    "version": 3
   },
   "file_extension": ".py",
   "mimetype": "text/x-python",
   "name": "python",
   "nbconvert_exporter": "python",
   "pygments_lexer": "ipython3",
   "version": "3.6.6"
  }
 },
 "nbformat": 4,
 "nbformat_minor": 2
}
